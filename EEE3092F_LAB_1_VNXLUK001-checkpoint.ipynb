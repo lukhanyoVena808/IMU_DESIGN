{
 "cells": [
  {
   "cell_type": "code",
   "execution_count": null,
   "metadata": {},
   "outputs": [],
   "source": [
    "#Code extracts used from 3_julia_signal_processing_demo.ipynb by A.J.Wilkinson\n",
    "using Plots\n",
    "\n",
    "Plots.plotly();    # Specify Plotly backend which allows zooming with a mouse in Jupyter Notebook.\n",
    "\n",
    "Plots.default(size=(900,500)); # Set default plot canvas size\n",
    "\n",
    "Plots.default(label=\"\"); # Turn off legends by default\n",
    "\n",
    "Plots.default(ticks=:native);\n",
    "\n",
    "using FFTW   # Import Fourier library\n"
   ]
  },
  {
   "cell_type": "code",
   "execution_count": null,
   "metadata": {},
   "outputs": [],
   "source": [
    "#returns the text data in a list\n",
    "function getInfo(fname,reg)\n",
    "    fl = open(fname)\n",
    "    lines = read(fl,String)\n",
    "    return rsplit(lines,reg)\n",
    "end\n",
    "\n",
    "# sums values in each row and stores it in an array\n",
    "function prepData(sum_arr,data,limit)\n",
    "    re = r\"^[+-]?([0-9]+([.][0-9]*)?|[.][0-9]+)$\";\n",
    "    counter = 1  #number of rows\n",
    "    for line in 1:size(data)[1]\n",
    "        num_clean = rsplit(data[line],\",\")\n",
    "        sum = 0\n",
    "        \n",
    "        for element in num_clean  \n",
    "            if occursin(re,element) #check if the element is a number before adding it to sum\n",
    "                ell = parse(Float64, element)\n",
    "#                 println(\"element: \",element,\", value: \",ell)\n",
    "                sum+= ell\n",
    "            end\n",
    "        end\n",
    "        if (sum >0 && sum<limit) #sum must be greater than zero\n",
    "#             append!(sum_arr,sum) #append each sum of each row to list\n",
    "            sum_arr[counter] = sum\n",
    "            counter+=1\n",
    "#             println(line,\",sum: \",sum)           \n",
    "        end\n",
    "    end\n",
    "    newls = Array{Float64,1}(undef,counter)\n",
    "    for i in 1:counter\n",
    "        newls[i] = sum_arr[i]\n",
    "    end\n",
    "    return counter, newls\n",
    "end\n",
    "\n",
    "function analyze(x,y,name)\n",
    "    fig = plot(x,y,xlabel=\"Row Number [integer]\",ylabel=\"Value of sum [float]\",title=\"Sum of values in each row in $(name) data file in the time domain\");\n",
    "    display(fig)\n",
    "   \n",
    "end\n",
    "\n",
    "function freq(x,name)\n",
    "    ratio = 1\n",
    "    Δt = 1*ratio\n",
    "    ending = (size(x)[1])*ratio\n",
    "    t= 1*ratio:Δt:ending\n",
    "     #Frequency domain\n",
    "    X=fft(x) #fourier of x(t)\n",
    "    N = length(t) #Number of samples\n",
    "    x_padded = [x; zeros(7*N)]   # Create an extended array, with 8N samples (by adding 7N extra zeros)\n",
    "    X_padded = fft(x_padded)\n",
    "\n",
    "    N_new = length(x_padded)\n",
    "    Δf_new = 1/(N_new*Δt)  # new spacing in frequency domain\n",
    "    #create array of freq values stored in f_axis. First element maps to 0Hz\n",
    "    if mod(N_new,2)==0    # case N even\n",
    "        f_axis_new = (-N_new/2:N_new/2-1)*Δf_new;    \n",
    "    else   # case N odd\n",
    "        f_axis_new = (-(N_new-1)/2 : (N_new-1)/2)*Δf_new; \n",
    "    end\n",
    "\n",
    "    fig=plot(f_axis_new,fftshift(abs.(X_padded)),xlabel=(\"frequency [Hz]\"),title=(\"FFT of $(name) data in frequency domain\"));\n",
    "    display(fig)\n",
    "\n",
    "#     fig = plot(t,real(X),xlabel=(\"Time[s]\"),ylabel=(\"Voltage[V]\"),title=(\"Demodulated signal Before filter\"));\n",
    "#     display(fig)\n",
    "end"
   ]
  },
  {
   "cell_type": "markdown",
   "metadata": {},
   "source": [
    "## Data Before Compression and Encryption"
   ]
  },
  {
   "cell_type": "code",
   "execution_count": null,
   "metadata": {
    "scrolled": false
   },
   "outputs": [],
   "source": [
    "#Open data file 1\n",
    "org1 = getInfo(\"./myHuffman/data/data_set1.txt\",\"\\r\\n\")    #data before compression\n",
    "org_ls1 = Array{Float64,1}(undef,size(org1)[1])\n",
    "org_rows1,original1 = prepData(org_ls1, org1,500)  #original data sum array\n",
    "x_org1 = 1:org_rows1\n",
    "analyze(x_org1, original1,\"original\")  #time domain\n",
    "freq(original1,\"original\")  #time domain\n",
    "\n",
    "#Open data file 3\n",
    "org2 = getInfo(\"./myHuffman/data/data_set3.txt\",\"\\r\\n\")    #data before compression\n",
    "org_ls2 = Array{Float64,1}(undef,size(org2)[1])\n",
    "org_rows2,original2 = prepData(org_ls2, org2,10000)  #original data sum array\n",
    "x_org2 = 1:org_rows2\n",
    "analyze(x_org2, original2,\"original\")  #time domain\n",
    "freq(original2,\"original\")  #time domain"
   ]
  },
  {
   "cell_type": "markdown",
   "metadata": {},
   "source": [
    "## HUFFMAN ALGORITHM"
   ]
  },
  {
   "cell_type": "markdown",
   "metadata": {},
   "source": [
    "### After Compression and Encryption"
   ]
  },
  {
   "cell_type": "code",
   "execution_count": null,
   "metadata": {
    "scrolled": false
   },
   "outputs": [],
   "source": [
    "#data 1\n",
    "dec1 = getInfo(\"./myHuffman/output/final1.txt\",\"\\r\\n\")   #data after compression\n",
    "dec_ls1 = Array{Float64,1}(undef,size(dec1)[1])\n",
    "dec_rows1,decompressed1 = prepData(dec_ls1, dec1,500)  #decompressed data sum array\n",
    "x_dec1 = 1:dec_rows1\n",
    "analyze(x_dec1, decompressed1,\"decompressed\")  #time domain\n",
    "freq(decompressed1,\"decompressed\")  #time domain\n",
    "\n",
    "#data 3\n",
    "dec2 = getInfo(\"./myHuffman/output/final3.txt\",\"\\r\\n\")   #data after compression\n",
    "dec_ls2 = Array{Float64,1}(undef,size(dec2)[1])\n",
    "dec_rows2,decompressed2 = prepData(dec_ls2, dec2,10000)  #decompressed data sum array\n",
    "x_dec2 = 1:dec_rows2\n",
    "analyze(x_dec2, decompressed2,\"decompressed\")  #time domain\n",
    "freq(decompressed2,\"decompressed\")  #time domain"
   ]
  },
  {
   "cell_type": "markdown",
   "metadata": {
    "scrolled": false
   },
   "source": [
    "## LZ77 ALGORITHM"
   ]
  },
  {
   "cell_type": "markdown",
   "metadata": {},
   "source": [
    "### After Compression and Encryption"
   ]
  },
  {
   "cell_type": "code",
   "execution_count": null,
   "metadata": {},
   "outputs": [],
   "source": [
    "#data 1\n",
    "dec1 = getInfo(\"./myLZ77/output/final1.txt\",\"\\r\\n\")   #data after compression\n",
    "dec_ls1 = Array{Float64,1}(undef,size(dec1)[1])\n",
    "dec_rows1,decompressed1 = prepData(dec_ls1, dec1,500)  #decompressed data sum array\n",
    "x_dec1 = 1:dec_rows1\n",
    "analyze(x_dec1, decompressed1,\"decompressed\")  #time domain\n",
    "freq(decompressed1,\"decompressed\")  #time domain\n",
    "\n",
    "#data 3\n",
    "dec2 = getInfo(\"./myLZ77/output/final3.txt\",\"\\r\\n\")   #data after compression\n",
    "dec_ls2 = Array{Float64,1}(undef,size(dec2)[1])\n",
    "dec_rows2,decompressed2 = prepData(dec_ls2, dec2,10000)  #decompressed data sum array\n",
    "x_dec2 = 1:dec_rows2\n",
    "analyze(x_dec2, decompressed2,\"decompressed\")  #time domain\n",
    "freq(decompressed2,\"decompressed\")  #time domain"
   ]
  },
  {
   "cell_type": "code",
   "execution_count": null,
   "metadata": {},
   "outputs": [],
   "source": []
  }
 ],
 "metadata": {
  "kernelspec": {
   "display_name": "Julia 1.7.2",
   "language": "julia",
   "name": "julia-1.7"
  },
  "language_info": {
   "file_extension": ".jl",
   "mimetype": "application/julia",
   "name": "julia",
   "version": "1.7.2"
  }
 },
 "nbformat": 4,
 "nbformat_minor": 4
}
